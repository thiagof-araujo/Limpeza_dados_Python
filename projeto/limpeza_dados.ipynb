{
 "cells": [
  {
   "cell_type": "code",
   "execution_count": 1,
   "id": "219838d9",
   "metadata": {},
   "outputs": [],
   "source": [
    "import pandas as pd"
   ]
  },
  {
   "cell_type": "code",
   "execution_count": 2,
   "id": "fb8e69c6",
   "metadata": {},
   "outputs": [],
   "source": [
    "df = pd.read_csv('./dados/empresas_IA.csv', sep=\",\", encoding = 'utf-8-sig')"
   ]
  },
  {
   "cell_type": "code",
   "execution_count": 3,
   "id": "b64cad99",
   "metadata": {},
   "outputs": [
    {
     "data": {
      "text/html": [
       "<div>\n",
       "<style scoped>\n",
       "    .dataframe tbody tr th:only-of-type {\n",
       "        vertical-align: middle;\n",
       "    }\n",
       "\n",
       "    .dataframe tbody tr th {\n",
       "        vertical-align: top;\n",
       "    }\n",
       "\n",
       "    .dataframe thead th {\n",
       "        text-align: right;\n",
       "    }\n",
       "</style>\n",
       "<table border=\"1\" class=\"dataframe\">\n",
       "  <thead>\n",
       "    <tr style=\"text-align: right;\">\n",
       "      <th></th>\n",
       "      <th>Nome da empresa</th>\n",
       "      <th>Website</th>\n",
       "      <th>Localização</th>\n",
       "      <th>Tamanho minimo do projeto</th>\n",
       "      <th>Pagamento médio por hora</th>\n",
       "      <th>Numero de empregados</th>\n",
       "      <th>Porcentagem de serviços relacionados a IA</th>\n",
       "      <th>Unnamed: 7</th>\n",
       "    </tr>\n",
       "  </thead>\n",
       "  <tbody>\n",
       "    <tr>\n",
       "      <th>0</th>\n",
       "      <td>Smith.ai</td>\n",
       "      <td>https://smith.ai/</td>\n",
       "      <td>Los Altos, CA</td>\n",
       "      <td>Undisclosed</td>\n",
       "      <td>Undisclosed</td>\n",
       "      <td>250 - 999</td>\n",
       "      <td>10%</td>\n",
       "      <td>NaN</td>\n",
       "    </tr>\n",
       "    <tr>\n",
       "      <th>1</th>\n",
       "      <td>MooveIt</td>\n",
       "      <td>https://moove-it.com/</td>\n",
       "      <td>Austin, TX</td>\n",
       "      <td>$100,000+</td>\n",
       "      <td>$50 - $99 / hr</td>\n",
       "      <td>50 - 249</td>\n",
       "      <td>15%</td>\n",
       "      <td>NaN</td>\n",
       "    </tr>\n",
       "    <tr>\n",
       "      <th>2</th>\n",
       "      <td>TechSpeedInc</td>\n",
       "      <td>http://www.techspeed.com/</td>\n",
       "      <td>Portland, OR</td>\n",
       "      <td>$1,000+</td>\n",
       "      <td>&lt; $25 / hr</td>\n",
       "      <td>50 - 249</td>\n",
       "      <td>40%</td>\n",
       "      <td>NaN</td>\n",
       "    </tr>\n",
       "    <tr>\n",
       "      <th>3</th>\n",
       "      <td>WillDom</td>\n",
       "      <td>https://willdom.com/</td>\n",
       "      <td>Fort Lauderdale, FL</td>\n",
       "      <td>$10,000+</td>\n",
       "      <td>$50 - $99 / hr</td>\n",
       "      <td>250 - 999</td>\n",
       "      <td>10%</td>\n",
       "      <td>NaN</td>\n",
       "    </tr>\n",
       "    <tr>\n",
       "      <th>4</th>\n",
       "      <td>Icreon</td>\n",
       "      <td>https://www.icreon.com/en</td>\n",
       "      <td>New York, NY</td>\n",
       "      <td>$50,000+</td>\n",
       "      <td>$100 - $149 / hr</td>\n",
       "      <td>250 - 999</td>\n",
       "      <td>10%</td>\n",
       "      <td>NaN</td>\n",
       "    </tr>\n",
       "  </tbody>\n",
       "</table>\n",
       "</div>"
      ],
      "text/plain": [
       "  Nome da empresa                    Website          Localização  \\\n",
       "0        Smith.ai          https://smith.ai/        Los Altos, CA   \n",
       "1         MooveIt      https://moove-it.com/           Austin, TX   \n",
       "2    TechSpeedInc  http://www.techspeed.com/         Portland, OR   \n",
       "3         WillDom       https://willdom.com/  Fort Lauderdale, FL   \n",
       "4          Icreon  https://www.icreon.com/en         New York, NY   \n",
       "\n",
       "  Tamanho minimo do projeto Pagamento médio por hora Numero de empregados  \\\n",
       "0               Undisclosed              Undisclosed            250 - 999   \n",
       "1                 $100,000+           $50 - $99 / hr             50 - 249   \n",
       "2                   $1,000+               < $25 / hr             50 - 249   \n",
       "3                  $10,000+           $50 - $99 / hr            250 - 999   \n",
       "4                  $50,000+         $100 - $149 / hr            250 - 999   \n",
       "\n",
       "  Porcentagem de serviços relacionados a IA Unnamed: 7  \n",
       "0                                       10%        NaN  \n",
       "1                                       15%        NaN  \n",
       "2                                       40%        NaN  \n",
       "3                                       10%        NaN  \n",
       "4                                       10%        NaN  "
      ]
     },
     "execution_count": 3,
     "metadata": {},
     "output_type": "execute_result"
    }
   ],
   "source": [
    "#Verificando os dados\n",
    "df.head()"
   ]
  },
  {
   "cell_type": "code",
   "execution_count": 4,
   "id": "167f55e3",
   "metadata": {},
   "outputs": [
    {
     "name": "stdout",
     "output_type": "stream",
     "text": [
      "<class 'pandas.core.frame.DataFrame'>\n",
      "RangeIndex: 3100 entries, 0 to 3099\n",
      "Data columns (total 8 columns):\n",
      " #   Column                                     Non-Null Count  Dtype \n",
      "---  ------                                     --------------  ----- \n",
      " 0   Nome da empresa                            3100 non-null   object\n",
      " 1   Website                                    3099 non-null   object\n",
      " 2   Localização                                3087 non-null   object\n",
      " 3   Tamanho minimo do projeto                  3100 non-null   object\n",
      " 4   Pagamento médio por hora                   3100 non-null   object\n",
      " 5   Numero de empregados                       3100 non-null   object\n",
      " 6   Porcentagem de serviços relacionados a IA  3100 non-null   object\n",
      " 7   Unnamed: 7                                 1 non-null      object\n",
      "dtypes: object(8)\n",
      "memory usage: 193.9+ KB\n"
     ]
    }
   ],
   "source": [
    "#Verificando os tipos dos dados\n",
    "df.info()"
   ]
  },
  {
   "cell_type": "code",
   "execution_count": 5,
   "id": "2ee0e724",
   "metadata": {},
   "outputs": [
    {
     "data": {
      "text/plain": [
       "Nome da empresa                                 0\n",
       "Website                                         1\n",
       "Localização                                    13\n",
       "Tamanho minimo do projeto                       0\n",
       "Pagamento médio por hora                        0\n",
       "Numero de empregados                            0\n",
       "Porcentagem de serviços relacionados a IA       0\n",
       "Unnamed: 7                                   3099\n",
       "dtype: int64"
      ]
     },
     "execution_count": 5,
     "metadata": {},
     "output_type": "execute_result"
    }
   ],
   "source": [
    "#verificando a quantidade de valor null no dataframe\n",
    "df.isnull().sum()"
   ]
  },
  {
   "cell_type": "code",
   "execution_count": 6,
   "id": "44850d0c",
   "metadata": {},
   "outputs": [],
   "source": [
    "#Normalizado o cabeçalho para snake case\n",
    "df = df.rename(columns={'Nome da empresa' : 'nome_empresa',\n",
    "                        'Website' : 'website',\n",
    "                        'Localização' : 'localizacao',\n",
    "                        'Tamanho minimo do projeto' : 'tamanho_minimo_projeto',\n",
    "                        'Pagamento médio por hora' : 'pagamento_medio_hora',\n",
    "                        'Numero de empregados' : 'numero_emprego',\n",
    "                        'Porcentagem de serviços relacionados a IA' : 'porcentagem_servico_ia'                     \n",
    "                       })"
   ]
  },
  {
   "cell_type": "code",
   "execution_count": 7,
   "id": "badd14ef",
   "metadata": {},
   "outputs": [],
   "source": [
    "#removendo a coluna 'Unnamed: 7', pois não tem valor para ser analisado\n",
    "df = df.drop(columns=['Unnamed: 7'])"
   ]
  },
  {
   "cell_type": "code",
   "execution_count": 8,
   "id": "d0b699e2",
   "metadata": {},
   "outputs": [],
   "source": [
    "#removendo as linhas com valores null, pois a quantidade é pequena e não vale a pena realizar algum tipo de transformação\n",
    "df = df.dropna(axis = 0)"
   ]
  },
  {
   "cell_type": "code",
   "execution_count": 9,
   "id": "9f98906a",
   "metadata": {},
   "outputs": [],
   "source": [
    "#removendo os caracteres\n",
    "def remove_caracteres (DataFrame, colunas, simbolos):\n",
    "    for i in colunas:\n",
    "        DataFrame[i] = DataFrame[i].str.replace(simbolos, '', regex=True)\n",
    "\n",
    "remove_caracteres(df, ['tamanho_minimo_projeto', 'pagamento_medio_hora', 'numero_emprego', 'porcentagem_servico_ia'], '$')\n",
    "remove_caracteres(df, ['tamanho_minimo_projeto', 'pagamento_medio_hora', 'numero_emprego', 'porcentagem_servico_ia'], '+')\n",
    "remove_caracteres(df, ['tamanho_minimo_projeto', 'pagamento_medio_hora', 'numero_emprego', 'porcentagem_servico_ia'], '/ hr')\n",
    "remove_caracteres(df, ['tamanho_minimo_projeto', 'pagamento_medio_hora', 'numero_emprego', 'porcentagem_servico_ia'], '<')\n",
    "remove_caracteres(df, ['tamanho_minimo_projeto', 'pagamento_medio_hora', 'numero_emprego', 'porcentagem_servico_ia'], '%')"
   ]
  },
  {
   "cell_type": "code",
   "execution_count": 10,
   "id": "ebcf9294",
   "metadata": {},
   "outputs": [],
   "source": [
    "#transforma a coluna 'porcentagem_servico_ia' do tipo str para int\n",
    "df['porcentagem_servico_ia'] = df['porcentagem_servico_ia'].astype('int')"
   ]
  },
  {
   "cell_type": "code",
   "execution_count": 11,
   "id": "4f1bc267",
   "metadata": {},
   "outputs": [
    {
     "name": "stdout",
     "output_type": "stream",
     "text": [
      "<class 'pandas.core.frame.DataFrame'>\n",
      "Int64Index: 3086 entries, 0 to 3099\n",
      "Data columns (total 7 columns):\n",
      " #   Column                  Non-Null Count  Dtype \n",
      "---  ------                  --------------  ----- \n",
      " 0   nome_empresa            3086 non-null   object\n",
      " 1   website                 3086 non-null   object\n",
      " 2   localizacao             3086 non-null   object\n",
      " 3   tamanho_minimo_projeto  3086 non-null   object\n",
      " 4   pagamento_medio_hora    3086 non-null   object\n",
      " 5   numero_emprego          3086 non-null   object\n",
      " 6   porcentagem_servico_ia  3086 non-null   int32 \n",
      "dtypes: int32(1), object(6)\n",
      "memory usage: 180.8+ KB\n"
     ]
    }
   ],
   "source": [
    "#Tipo dos dados após as limpezas\n",
    "df.info()"
   ]
  },
  {
   "cell_type": "code",
   "execution_count": 12,
   "id": "b12053ea",
   "metadata": {},
   "outputs": [
    {
     "data": {
      "text/html": [
       "<div>\n",
       "<style scoped>\n",
       "    .dataframe tbody tr th:only-of-type {\n",
       "        vertical-align: middle;\n",
       "    }\n",
       "\n",
       "    .dataframe tbody tr th {\n",
       "        vertical-align: top;\n",
       "    }\n",
       "\n",
       "    .dataframe thead th {\n",
       "        text-align: right;\n",
       "    }\n",
       "</style>\n",
       "<table border=\"1\" class=\"dataframe\">\n",
       "  <thead>\n",
       "    <tr style=\"text-align: right;\">\n",
       "      <th></th>\n",
       "      <th>nome_empresa</th>\n",
       "      <th>website</th>\n",
       "      <th>localizacao</th>\n",
       "      <th>tamanho_minimo_projeto</th>\n",
       "      <th>pagamento_medio_hora</th>\n",
       "      <th>numero_emprego</th>\n",
       "      <th>porcentagem_servico_ia</th>\n",
       "    </tr>\n",
       "  </thead>\n",
       "  <tbody>\n",
       "    <tr>\n",
       "      <th>0</th>\n",
       "      <td>Smith.ai</td>\n",
       "      <td>https://smith.ai/</td>\n",
       "      <td>Los Altos, CA</td>\n",
       "      <td>Undisclosed</td>\n",
       "      <td>Undisclosed</td>\n",
       "      <td>250 - 999</td>\n",
       "      <td>10</td>\n",
       "    </tr>\n",
       "    <tr>\n",
       "      <th>1</th>\n",
       "      <td>MooveIt</td>\n",
       "      <td>https://moove-it.com/</td>\n",
       "      <td>Austin, TX</td>\n",
       "      <td>100,000</td>\n",
       "      <td>50 - 99</td>\n",
       "      <td>50 - 249</td>\n",
       "      <td>15</td>\n",
       "    </tr>\n",
       "    <tr>\n",
       "      <th>2</th>\n",
       "      <td>TechSpeedInc</td>\n",
       "      <td>http://www.techspeed.com/</td>\n",
       "      <td>Portland, OR</td>\n",
       "      <td>1,000</td>\n",
       "      <td>25</td>\n",
       "      <td>50 - 249</td>\n",
       "      <td>40</td>\n",
       "    </tr>\n",
       "    <tr>\n",
       "      <th>3</th>\n",
       "      <td>WillDom</td>\n",
       "      <td>https://willdom.com/</td>\n",
       "      <td>Fort Lauderdale, FL</td>\n",
       "      <td>10,000</td>\n",
       "      <td>50 - 99</td>\n",
       "      <td>250 - 999</td>\n",
       "      <td>10</td>\n",
       "    </tr>\n",
       "    <tr>\n",
       "      <th>4</th>\n",
       "      <td>Icreon</td>\n",
       "      <td>https://www.icreon.com/en</td>\n",
       "      <td>New York, NY</td>\n",
       "      <td>50,000</td>\n",
       "      <td>100 - 149</td>\n",
       "      <td>250 - 999</td>\n",
       "      <td>10</td>\n",
       "    </tr>\n",
       "  </tbody>\n",
       "</table>\n",
       "</div>"
      ],
      "text/plain": [
       "   nome_empresa                    website          localizacao  \\\n",
       "0      Smith.ai          https://smith.ai/        Los Altos, CA   \n",
       "1       MooveIt      https://moove-it.com/           Austin, TX   \n",
       "2  TechSpeedInc  http://www.techspeed.com/         Portland, OR   \n",
       "3       WillDom       https://willdom.com/  Fort Lauderdale, FL   \n",
       "4        Icreon  https://www.icreon.com/en         New York, NY   \n",
       "\n",
       "  tamanho_minimo_projeto pagamento_medio_hora numero_emprego  \\\n",
       "0            Undisclosed          Undisclosed      250 - 999   \n",
       "1                100,000             50 - 99        50 - 249   \n",
       "2                  1,000                  25        50 - 249   \n",
       "3                 10,000             50 - 99       250 - 999   \n",
       "4                 50,000           100 - 149       250 - 999   \n",
       "\n",
       "   porcentagem_servico_ia  \n",
       "0                      10  \n",
       "1                      15  \n",
       "2                      40  \n",
       "3                      10  \n",
       "4                      10  "
      ]
     },
     "execution_count": 12,
     "metadata": {},
     "output_type": "execute_result"
    }
   ],
   "source": [
    "#Dataframe final\n",
    "df.head()"
   ]
  }
 ],
 "metadata": {
  "kernelspec": {
   "display_name": "Python 3 (ipykernel)",
   "language": "python",
   "name": "python3"
  },
  "language_info": {
   "codemirror_mode": {
    "name": "ipython",
    "version": 3
   },
   "file_extension": ".py",
   "mimetype": "text/x-python",
   "name": "python",
   "nbconvert_exporter": "python",
   "pygments_lexer": "ipython3",
   "version": "3.7.11"
  }
 },
 "nbformat": 4,
 "nbformat_minor": 5
}
